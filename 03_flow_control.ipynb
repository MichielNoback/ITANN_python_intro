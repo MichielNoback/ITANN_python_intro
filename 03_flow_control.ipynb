{
 "cells": [
  {
   "cell_type": "markdown",
   "id": "b7173bad",
   "metadata": {},
   "source": [
    "# Flow control\n",
    "\n",
    "Besides data, flow control is at the heart of programming. What is the use of a list if you can't iterate it? How could you ever take alterantive courses of action based on some variable value without the use of if/else blocks?\n",
    "\n",
    "This chapter deals with all aspects concerning control of program flow or in short flow control.\n",
    "\n",
    "These are the constructs that you will see:\n",
    "\n",
    "- iteration (repeated execution) using `for` and `while`, and use cases for a closing `else`\n",
    "- decision making using `if`, `elif`, `else` and its shorthand `if...else`\n",
    "- fine-tuning these constructs using `break`, `continue` and `pass`\n",
    "\n"
   ]
  },
  {
   "cell_type": "markdown",
   "id": "f2201b39",
   "metadata": {},
   "source": [
    "## Iteration\n",
    "\n",
    "The keyword `for` is at the heart of iteration. All constructs involving `for` have this general structure:\n",
    "\n",
    "```python\n",
    "for element in iterable:\n",
    "    #do_something with the element\n",
    "```\n",
    "\n",
    "Let's walk through some examples to demonstrate iteration and its details. Note that some examples can be implemented much more efficiently than shown here!\n",
    "\n",
    "The alternative to `for`, `while` is used when you have no collection but want to repeat for another reason. This will be demonstrated at the end of this section.\n",
    "\n",
    "Here are our good old fruits:"
   ]
  },
  {
   "cell_type": "code",
   "execution_count": 4,
   "id": "34656a15",
   "metadata": {},
   "outputs": [],
   "source": [
    "fruits = ['kiwi', 'banana', 'apple', 'orange']"
   ]
  },
  {
   "cell_type": "markdown",
   "id": "c9af3bbe",
   "metadata": {},
   "source": [
    "and here is a basic iteration"
   ]
  },
  {
   "cell_type": "code",
   "execution_count": 2,
   "id": "f9c01980",
   "metadata": {},
   "outputs": [
    {
     "name": "stdout",
     "output_type": "stream",
     "text": [
      "kiwi\n",
      "banana\n",
      "apple\n",
      "orange\n"
     ]
    }
   ],
   "source": [
    "for fruit in fruits:\n",
    "    print(fruit)"
   ]
  },
  {
   "cell_type": "markdown",
   "id": "e3df139b",
   "metadata": {},
   "source": [
    "What if we want to keep a **counter**? _Don't do this_:\n",
    "\n",
    "```python\n",
    "i = 0\n",
    "for fruit in fruits:\n",
    "    i += 1\n",
    "    print(f'fruit {i} is {fruit}')\n",
    "```\n",
    "\n",
    "Instead, use the function `enumerate()` to wrap your iterable:"
   ]
  },
  {
   "cell_type": "code",
   "execution_count": 7,
   "id": "c0fadb6a",
   "metadata": {},
   "outputs": [
    {
     "name": "stdout",
     "output_type": "stream",
     "text": [
      "fruit 0 is kiwi\n",
      "fruit 1 is banana\n",
      "fruit 2 is apple\n",
      "fruit 3 is orange\n"
     ]
    }
   ],
   "source": [
    "for i, fruit in enumerate(fruits):\n",
    "    print(f'fruit {i} is {fruit}')\n"
   ]
  },
  {
   "cell_type": "markdown",
   "id": "e9db2a21",
   "metadata": {},
   "source": [
    "If you are not interested in all items, but want to exit when you found a specific item? Use the **break** keyword:"
   ]
  },
  {
   "cell_type": "code",
   "execution_count": 8,
   "id": "b2306a5f",
   "metadata": {},
   "outputs": [
    {
     "name": "stdout",
     "output_type": "stream",
     "text": [
      "kiwi\n",
      "banana\n"
     ]
    }
   ],
   "source": [
    "for fruit in fruits:\n",
    "    print(fruit)\n",
    "    if fruit == 'banana':\n",
    "        break\n"
   ]
  },
  {
   "cell_type": "markdown",
   "id": "254db9bb",
   "metadata": {},
   "source": [
    "As you can see `break` skips all subsequent iterations. Similarly, if you want to skip only a single iteration you can use `continue`:"
   ]
  },
  {
   "cell_type": "code",
   "execution_count": 11,
   "id": "1df272eb",
   "metadata": {},
   "outputs": [
    {
     "name": "stdout",
     "output_type": "stream",
     "text": [
      "kiwi\n",
      "apple\n",
      "orange\n"
     ]
    }
   ],
   "source": [
    "for fruit in fruits:\n",
    "    if fruit == 'banana': \n",
    "        continue\n",
    "    print(fruit)"
   ]
  },
  {
   "cell_type": "markdown",
   "id": "4e1176e1",
   "metadata": {},
   "source": [
    "For many of these flow control structures there is a **shorthand** if the code block to execute only constitutes a single statement. The above could also have been written as \n",
    "\n",
    "```python\n",
    "for fruit in fruits:\n",
    "    if fruit == 'banana': continue #on a single line\n",
    "    print(fruit)\n",
    "```\n",
    "\n",
    "However this gives less readable code in my opinion.\n",
    "There are some useful cases for the shorthand form. One of these is demonstrated in the next snippet."
   ]
  },
  {
   "cell_type": "code",
   "execution_count": 2,
   "id": "b78bcc51",
   "metadata": {},
   "outputs": [
    {
     "name": "stdout",
     "output_type": "stream",
     "text": [
      "you are not allowed to drink alcohol\n"
     ]
    }
   ],
   "source": [
    "age = 17\n",
    "\n",
    "infix = \"\" if age > 18 else \"not \"\n",
    "\n",
    "print(f'you are {infix}allowed to drink alcohol')"
   ]
  },
  {
   "cell_type": "markdown",
   "id": "c204d69c",
   "metadata": {},
   "source": [
    "### Using `else` with a for loop\n",
    "If you want to have a block executed _after_ the for loop, you can of course simply place it below the block. However, if you want to have it executed only when no `break` has been issued you need and `else` clause:\n"
   ]
  },
  {
   "cell_type": "code",
   "execution_count": 5,
   "id": "02639ff0",
   "metadata": {},
   "outputs": [
    {
     "name": "stdout",
     "output_type": "stream",
     "text": [
      "papaya was not found\n"
     ]
    }
   ],
   "source": [
    "for fruit in fruits:\n",
    "    if fruit == \"papaya\":\n",
    "        break\n",
    "else:\n",
    "    print(\"papaya was not found\")"
   ]
  },
  {
   "cell_type": "markdown",
   "id": "8c5f384b",
   "metadata": {},
   "source": [
    "### The `while` loop\n",
    "\n",
    "If you want to repeat without a collection the `while` loop is your friend. Especially with user input this one comes in handy. The `else` clause can be used here as well (not demonstrated).\n",
    "Here is a typical use of `while`:"
   ]
  },
  {
   "cell_type": "code",
   "execution_count": 11,
   "id": "4906364e",
   "metadata": {},
   "outputs": [
    {
     "name": "stdout",
     "output_type": "stream",
     "text": [
      "please give your name:  .\n",
      "please give your name: hh\n",
      "please give your name: henk\n",
      "Welcome, henk\n"
     ]
    }
   ],
   "source": [
    "name = \"\"\n",
    "while len(name.strip()) < 3:\n",
    "    name = input(\"please give your name: \")\n",
    "\n",
    "print(f'Welcome, {name}')"
   ]
  },
  {
   "cell_type": "markdown",
   "id": "8ec1433a",
   "metadata": {},
   "source": [
    "## Conditionals\n",
    "\n",
    "Deciding what to next, based on the value of a variable, some user input, the content of a file, the availability on a remote data source. You need to do these things all the time and this is where you use conditionals.\n",
    "\n",
    "The if/else syntax has these elements and their restrictions in occurrences:\n",
    "\n",
    "```python\n",
    "if condition:    # One is mandatory and only one allowed\n",
    "    pass\n",
    "elif condition:  # Optional, but many allowed\n",
    "    pass\n",
    "else:            # Optional, executed only when all of the above evaluated to False; only one allowed\n",
    "    pass\n",
    "```\n",
    "\n",
    "In this setup, only a single block will ever execute: the first one to evaluate to True, or the else clause. "
   ]
  },
  {
   "cell_type": "code",
   "execution_count": 21,
   "id": "a569d540",
   "metadata": {},
   "outputs": [
    {
     "name": "stdout",
     "output_type": "stream",
     "text": [
      "You can take driving lessons\n"
     ]
    }
   ],
   "source": [
    "age = 17\n",
    "if age >= 17:\n",
    "    print(\"You can take driving lessons\")\n",
    "elif age >= 18:\n",
    "    print(\"You are allowed to drive, when you have licence of course\")\n",
    "else:\n",
    "    print(\"You may not drive a car alone yet\")"
   ]
  },
  {
   "cell_type": "markdown",
   "id": "3fcf8b09",
   "metadata": {},
   "source": [
    "If you have a situation where you want more blocks to run you need to chain multiple `if`s together:"
   ]
  },
  {
   "cell_type": "code",
   "execution_count": 22,
   "id": "ca86b65c",
   "metadata": {},
   "outputs": [
    {
     "name": "stdout",
     "output_type": "stream",
     "text": [
      "You can take driving lessons\n",
      "You may not drive a car alone yet\n"
     ]
    }
   ],
   "source": [
    "age = 17\n",
    "if age >= 17:\n",
    "    print(\"You can take driving lessons\")\n",
    "if age >= 18:\n",
    "    print(\"You are allowed to drive, when you have a licence of course\")\n",
    "else:\n",
    "    print(\"You may not drive a car alone yet\")"
   ]
  },
  {
   "cell_type": "markdown",
   "id": "88dd5332",
   "metadata": {},
   "source": [
    "### Optional: Switch(ing)\n",
    "\n",
    "If you have a distinct set of possibilities other programming languages provide the `switch` statement. \n",
    "In Python up to version 3.10 this was not available. In the non-executed snippet below it is shown for Python >= 3.10.\n",
    "\n",
    "```python\n",
    "def http_error(status):\n",
    "    match status:\n",
    "        case 400:\n",
    "            return \"Bad request\"\n",
    "        case 404:\n",
    "            return \"Not found\"\n",
    "        # If an exact match is not confirmed, this last case will be used if provided\n",
    "        case _:\n",
    "            return \"Something's wrong with the internet\"\n",
    "        \n",
    "http_status(400)\n",
    "```\n",
    "\n",
    "How to check the Python version is demonstrated below:\n"
   ]
  },
  {
   "cell_type": "code",
   "execution_count": 29,
   "id": "e936fa7e",
   "metadata": {},
   "outputs": [
    {
     "data": {
      "text/plain": [
       "sys.version_info(major=3, minor=9, micro=13, releaselevel='final', serial=0)"
      ]
     },
     "execution_count": 29,
     "metadata": {},
     "output_type": "execute_result"
    }
   ],
   "source": [
    "import sys\n",
    "sys.version_info\n",
    "\n",
    "sys."
   ]
  },
  {
   "cell_type": "code",
   "execution_count": 28,
   "id": "09530590",
   "metadata": {},
   "outputs": [
    {
     "name": "stdout",
     "output_type": "stream",
     "text": [
      "Kiwi only when juicy and sweet\n"
     ]
    }
   ],
   "source": [
    "def demo_old_switch(fruit):\n",
    "    def banana():\n",
    "        print(\"Banana yummie!\")\n",
    "    def kiwi():\n",
    "        print(\"Kiwi only when juicy and sweet\")\n",
    "    def default():\n",
    "        print(\"I don't know this fruit\")\n",
    "    \n",
    "    actions = {\n",
    "        \"banana\": banana,\n",
    "        \"kiwi\": kiwi,\n",
    "        \"default\": default\n",
    "    }\n",
    "    \n",
    "    actions.get(fruit, \"default\")()\n",
    "\n",
    "    \n",
    "demo_old_switch(\"kiwi\")"
   ]
  }
 ],
 "metadata": {
  "kernelspec": {
   "display_name": "Python 3 (ipykernel)",
   "language": "python",
   "name": "python3"
  },
  "language_info": {
   "codemirror_mode": {
    "name": "ipython",
    "version": 3
   },
   "file_extension": ".py",
   "mimetype": "text/x-python",
   "name": "python",
   "nbconvert_exporter": "python",
   "pygments_lexer": "ipython3",
   "version": "3.9.13"
  }
 },
 "nbformat": 4,
 "nbformat_minor": 5
}
