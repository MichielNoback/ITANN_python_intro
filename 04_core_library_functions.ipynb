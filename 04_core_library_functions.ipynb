{
 "cells": [
  {
   "cell_type": "markdown",
   "id": "29ff7b0b",
   "metadata": {},
   "source": [
    "## The core library functions\n",
    "\n",
    "Python ships with a wealth of built-in functions at your disposal.\n",
    "Some are readily available but many should be \"activated\" using an `import` statement.\n",
    "\n",
    "This chapter only deals with a very cursory inspection; your should really bookmark the [docs](https://docs.python.org/3/library/index.html).\n"
   ]
  },
  {
   "cell_type": "markdown",
   "id": "4689cc15",
   "metadata": {},
   "source": [
    "### Built-in functions\n",
    "These are the functions you have always at your disposal, without `import` statement. The list is not very long because this keeps the core Python runti\n",
    "The complete list can be found in the [doc](https://docs.python.org/3/library/functions.html)\n"
   ]
  }
 ],
 "metadata": {
  "kernelspec": {
   "display_name": "Python 3 (ipykernel)",
   "language": "python",
   "name": "python3"
  },
  "language_info": {
   "codemirror_mode": {
    "name": "ipython",
    "version": 3
   },
   "file_extension": ".py",
   "mimetype": "text/x-python",
   "name": "python",
   "nbconvert_exporter": "python",
   "pygments_lexer": "ipython3",
   "version": "3.9.13"
  }
 },
 "nbformat": 4,
 "nbformat_minor": 5
}
