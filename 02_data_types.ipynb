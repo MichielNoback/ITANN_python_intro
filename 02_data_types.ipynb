{
 "cells": [
  {
   "cell_type": "markdown",
   "metadata": {},
   "source": [
    "# Data types\n",
    "In this chapter we'll explore the different base data types of Python, both **scalar** and **collection**.  \n",
    "The main aspects of working with collection types are accessing its elements individually or iteratively.  "
   ]
  },
  {
   "cell_type": "markdown",
   "metadata": {},
   "source": [
    "## Scalar types\n",
    "\n",
    "A scalar data type, or just **scalar**, is any non-collection value. Put differently, a scalar is a singular value. There are just a few different scalar values in Python to be found in the vast majority of Python code, and they are the same or at least similar across the vast majority of programming languages.\n",
    "\n",
    "- **Numeric types** represent numbers and they come in two flavours; with and without decimal part. \n",
    "    - integers have no decimal part (`int`) e.g. `2`, `3`, `140000000198`\n",
    "    - floating point numbers do have a decimal part (`float`) e.g. `3.211`, `2.0`, `5E-5`\n",
    "- **Text**: aka string data (`str`) e.g. `\"It's a wonderful world\"` or `'What a challenge!'`\n",
    "- **Logical**: aka boolean (`bool`) with only two possible values: `True` and `False`\n",
    "\n",
    "(I skipped binary and complex types for conciseness)\n",
    "\n",
    "Since Python is a weakly typed language you do not need to specify its type when creating a variable or literal. However, you can also get the type by using the `type()` function on any literal or variable. "
   ]
  },
  {
   "cell_type": "code",
   "execution_count": 8,
   "metadata": {},
   "outputs": [
    {
     "name": "stdout",
     "output_type": "stream",
     "text": [
      "<class 'bool'>\n",
      "<class 'str'>\n",
      "<class 'float'>\n"
     ]
    }
   ],
   "source": [
    "print(type(True))\n",
    "\n",
    "m = \"It's a wonderful world\" # You can use single quotes in a double-quoted string, but not double quotes (unless escaped)\n",
    "\n",
    "print(type(m))\n",
    "\n",
    "print(type(5E5)) #exponents are always floats"
   ]
  },
  {
   "cell_type": "markdown",
   "metadata": {},
   "source": [
    "Variables can change type when their value changes:"
   ]
  },
  {
   "cell_type": "code",
   "execution_count": 9,
   "metadata": {},
   "outputs": [
    {
     "name": "stdout",
     "output_type": "stream",
     "text": [
      "x is of type <class 'int'> and has value 42\n",
      "x is of type <class 'bool'> and has value True\n"
     ]
    }
   ],
   "source": [
    "x = 42\n",
    "\n",
    "print(f'x is of type {type(x)} and has value {x}')\n",
    "\n",
    "x = True\n",
    "\n",
    "print(f'x is of type {type(x)} and has value {x}')"
   ]
  },
  {
   "cell_type": "markdown",
   "metadata": {},
   "source": [
    "You can also explicitly change between types, as long as it is a legal conversion."
   ]
  },
  {
   "cell_type": "code",
   "execution_count": 17,
   "metadata": {},
   "outputs": [
    {
     "name": "stdout",
     "output_type": "stream",
     "text": [
      "42.0\n",
      "42\n",
      "True\n",
      "False\n"
     ]
    }
   ],
   "source": [
    "print(float(\"42.0\"))  # OK\n",
    "#print(int(\"42.0\"))   # fails\n",
    "print(int(\"42\"))      # OK\n",
    "print(bool(\"42.0\"))   # OK - any non-empty string is considered True\n",
    "print(bool(\"\"))       # OK - an empty string is False\n",
    "# print(int(\"\"))      # fails"
   ]
  },
  {
   "cell_type": "markdown",
   "metadata": {},
   "source": [
    "When reading from the command-line args (terminal) or from file, your data will always be character data, even though they are numeric. You always need to do the conversion yourself (unless you use dedicated libraries for it). "
   ]
  },
  {
   "cell_type": "markdown",
   "metadata": {},
   "source": [
    "### Exercise\n",
    "Try some conversions yourself. Figure out why some fail and some do not (sometimes where you expected it), what the result is and what the logic behind the conversion is. Especially conversions to `bool` are interesting and very relevant in `if <condition>:` blocks. "
   ]
  },
  {
   "cell_type": "markdown",
   "metadata": {},
   "source": [
    "## Collection types\n",
    "\n",
    "Collection types are exactly what their name implies; they are composed of other types (scalar or collection). The number of complex types in the base language is limited, and there are only a few that are used in the majority of cases.\n",
    "\n",
    "- **Sequence types** have elements in a specific order or sequence, and these can be addressed using the position of the element - its **index**.\n",
    "    - **list** In a list, order matters, and that is why you can fetch elements by their position, starting at zero. Lists can change: you can add and delete elements.\n",
    "    - **tuple** The tuple is much like a list, but with a very important distinction: they are **immutable**. Once created they can't change.\n",
    "    - **range** A range is a series of numbers that can be used for iteration of for creating lists or tuples.\n",
    "    - (**str**) Strings behave A LOT like other sequence types!\n",
    "- **set** A set is a collection of unique elements; no duplicates are allowed.\n",
    "- **dict** In a dictionary (in other languages map)there are **entries** where a (**key**) is coupled to a corresponding **value**. So that can be retreived by its key."
   ]
  },
  {
   "cell_type": "markdown",
   "metadata": {},
   "source": [
    "### Slicing\n",
    "A any sequence type can be compared to a street with houses. The address points to a house. In Python addresses start at zero. You can access a single house, a range of houses or every second or third. All this is done using **slicing**. Its general syntax is  \n",
    "`[start:stop:step]`. The `step` is 1 by default, and if `start` or `stop` is omitted this means \"from the beginning (0)\" or \"to the end\". Note that `stop` is NOT included!  \n",
    "Here are some examples using strings. They work the same in lists and tuples."
   ]
  },
  {
   "cell_type": "code",
   "execution_count": 31,
   "metadata": {},
   "outputs": [
    {
     "name": "stdout",
     "output_type": "stream",
     "text": [
      "The character(s) selected by letters[0] are A\n",
      "The character(s) selected by letters[3] are D\n",
      "The character(s) selected by letters[-3] are I\n",
      "The character(s) selected by letters[2:6] are CDEF\n",
      "The character(s) selected by letters[::2] are ACEGIK\n",
      "The character(s) selected by letters[:] are ABCDEFGHIJK\n",
      "The character(s) selected by letters[::-2] are KIGECA\n",
      "The character(s) selected by letters[:-5:-2] are KI\n"
     ]
    }
   ],
   "source": [
    "letters = 'ABCDEFGHIJK'\n",
    "\n",
    "print(f'The character(s) selected by letters[0] are {letters[0]}')\n",
    "print(f'The character(s) selected by letters[3] are {letters[3]}')\n",
    "print(f'The character(s) selected by letters[-3] are {letters[-3]}')\n",
    "print(f'The character(s) selected by letters[2:6] are {letters[2:6]}')\n",
    "print(f'The character(s) selected by letters[::2] are {letters[::2]}')\n",
    "print(f'The character(s) selected by letters[:] are {letters[:]}')\n",
    "print(f'The character(s) selected by letters[::-2] are {letters[::-2]}')\n",
    "print(f'The character(s) selected by letters[:-5:-2] are {letters[:-5:-2]}')\n",
    "\n"
   ]
  },
  {
   "cell_type": "markdown",
   "metadata": {},
   "source": [
    "#### Exercise\n",
    "\n",
    "Given the string `txt = 'aA.bB.cC.dD.eE.fF.gG.hH.zZ'`, write code using string slicing to print to screen  \n",
    " \n",
    "- `\"abcdefgz\"`\n",
    "- `\"........\"` \n",
    "- `\"BCDEFGH\"` \n",
    "- `'bC.fG.'`"
   ]
  },
  {
   "cell_type": "code",
   "execution_count": null,
   "metadata": {},
   "outputs": [],
   "source": [
    "txt = 'aA.bB.cC.dD.eE.fF.gG.hH.zZ'\n",
    "# YOUR CODE"
   ]
  },
  {
   "cell_type": "markdown",
   "metadata": {},
   "source": [
    "#### Exercise\n",
    "\n",
    "Given the list below, investigate whether lists behave the same as strings."
   ]
  },
  {
   "cell_type": "code",
   "execution_count": 33,
   "metadata": {},
   "outputs": [],
   "source": [
    "fruits = [\"apple\", \"orange\", \"kiwi\", \"pear\", \"banana\", \"plum\"]\n"
   ]
  },
  {
   "cell_type": "markdown",
   "metadata": {},
   "source": [
    "### Slicing is not all - meet the dot operator\n",
    "\n",
    "So far I have skipped the point that Python is an **Object-Oriented** programming language. Being object-oriented means the (almost) everything is being modeled as an entity with data and behaviour (e.g. methods). Let's explore this concept with the string type. In Python, strings have only a single property - their character sequence. They do, however, have many methods. Both properties and methods are accessed on an object using the **dot operator**. The difference lies in the fact that methods have parentheses after their name that (optionally) define method arguments.  \n",
    "\n",
    "Here are some examples of methods on string objects."
   ]
  },
  {
   "cell_type": "code",
   "execution_count": 56,
   "metadata": {},
   "outputs": [
    {
     "name": "stdout",
     "output_type": "stream",
     "text": [
      "HELLO\n",
      "HOWDY\n",
      "False\n",
      "A+B+C\n",
      "     Hello\n"
     ]
    },
    {
     "data": {
      "text/plain": [
       "'Foo Bar Baz'"
      ]
     },
     "execution_count": 56,
     "metadata": {},
     "output_type": "execute_result"
    }
   ],
   "source": [
    "s1 = \"Hello\"\n",
    "print(s1.upper())\n",
    "\n",
    "s2 = \"Howdy\"\n",
    "print(s2.upper())\n",
    "\n",
    "print(s1.__eq__(s2))\n",
    "\n",
    "print(\"+\".join(\"ABC\"))\n",
    "\n",
    "print(s1.rjust(10))\n",
    "\n",
    "str.title(\"foo bar baz\")\n"
   ]
  },
  {
   "cell_type": "markdown",
   "metadata": {},
   "source": [
    "Do you need to know these methods?  \n",
    "\n",
    "**NO!**\n",
    "\n",
    "You will simply remember the once you use most.  \n",
    "Other things you will need to learn how to find quickly. Here are the sources that are most relevant (in logical order of usage):\n",
    "\n",
    "1. Use the dot operator within your editor. This usually suggests possible methods on an object (or class).\n",
    "2. use `help()` in Jupyter or the Python console, e.g. help(str)\n",
    "3. Use [the python docs](https://docs.python.org/3/), in particular [The Python Standard lLibrary](https://docs.python.org/3/library/index.html)\n",
    "4. Google\n",
    "\n",
    "Also, it may be worth your while to have some cheat sheets copied to your Desktop (fysical or computer)\n",
    "\n"
   ]
  },
  {
   "cell_type": "markdown",
   "metadata": {},
   "source": [
    "#### Exercise\n",
    "\n",
    "Use the above sequence of resources to find out how to ...\n",
    "- print three string variables as one, with a `+` between each string\n",
    "- split a sentence in a list of separate words\n",
    "- get a random number between 1 and 100\n",
    "- round a number to 2 decimals\n"
   ]
  },
  {
   "cell_type": "code",
   "execution_count": 73,
   "metadata": {},
   "outputs": [
    {
     "data": {
      "text/plain": [
       "{(4, 2), 3, 'A'}"
      ]
     },
     "execution_count": 73,
     "metadata": {},
     "output_type": "execute_result"
    }
   ],
   "source": [
    "set([3, \"A\", (4, 2)])\n"
   ]
  }
 ],
 "metadata": {
  "kernelspec": {
   "display_name": "Python 3 (ipykernel)",
   "language": "python",
   "name": "python3"
  },
  "language_info": {
   "codemirror_mode": {
    "name": "ipython",
    "version": 3
   },
   "file_extension": ".py",
   "mimetype": "text/x-python",
   "name": "python",
   "nbconvert_exporter": "python",
   "pygments_lexer": "ipython3",
   "version": "3.9.13"
  },
  "vscode": {
   "interpreter": {
    "hash": "b0fa6594d8f4cbf19f97940f81e996739fb7646882a419484c72d19e05852a7e"
   }
  }
 },
 "nbformat": 4,
 "nbformat_minor": 2
}
