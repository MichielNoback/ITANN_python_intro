{
 "cells": [
  {
   "cell_type": "markdown",
   "metadata": {},
   "source": [
    "# Data types\n",
    "In this chapter we'll explore the different base data types of Python, both **scalar** and **composite**.  \n",
    "\n",
    "Fortunately there are not many.  "
   ]
  },
  {
   "cell_type": "markdown",
   "metadata": {},
   "source": [
    "## Scalar types\n",
    "\n",
    "A scalar data type, or just **scalar**, is any non-composite value. Put differently, a scalar is a singular value. There are just a few different scalar values in Python to be found in the vast majority of Python code, and they are the same or at least similar across the vast majority of programming languages.\n",
    "\n",
    "- **Numeric types**: \n",
    "    - integer (`int`) e.g. `2`, `3`, `140000000198`\n",
    "    - floating point numbers (`float`) e.g. `3.211`, `2.0`, `5E-5`\n",
    "- **Text**: aka string data (`str`) e.g. `\"It's a wonderful world\"` or `'What a challenge!'`\n",
    "- **Logical**: aka boolean (`bool`) with only two possible values: `True` and `False`\n",
    "\n",
    "(I skipped binary and complex types for conciseness)\n",
    "\n",
    "Since Python is a weakly typed language you do not need to specify its type when creating a variable or literal. However, you can also get the type by using the `type()` function on any literal or variable. "
   ]
  },
  {
   "cell_type": "code",
   "execution_count": 8,
   "metadata": {},
   "outputs": [
    {
     "name": "stdout",
     "output_type": "stream",
     "text": [
      "<class 'bool'>\n",
      "<class 'str'>\n",
      "<class 'float'>\n"
     ]
    }
   ],
   "source": [
    "print(type(True))\n",
    "\n",
    "m = \"It's a wonderful world\" # You can use single quotes in a double-quoted string, but not double quotes (unless escaped)\n",
    "\n",
    "print(type(m))\n",
    "\n",
    "print(type(5E5)) #exponents are always floats"
   ]
  },
  {
   "cell_type": "markdown",
   "metadata": {},
   "source": [
    "## Composite types\n",
    "\n"
   ]
  }
 ],
 "metadata": {
  "kernelspec": {
   "display_name": "Python 3.9.12 64-bit",
   "language": "python",
   "name": "python3"
  },
  "language_info": {
   "codemirror_mode": {
    "name": "ipython",
    "version": 3
   },
   "file_extension": ".py",
   "mimetype": "text/x-python",
   "name": "python",
   "nbconvert_exporter": "python",
   "pygments_lexer": "ipython3",
   "version": "3.9.12"
  },
  "orig_nbformat": 4,
  "vscode": {
   "interpreter": {
    "hash": "b0fa6594d8f4cbf19f97940f81e996739fb7646882a419484c72d19e05852a7e"
   }
  }
 },
 "nbformat": 4,
 "nbformat_minor": 2
}
