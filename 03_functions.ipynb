{
 "cells": [
  {
   "cell_type": "markdown",
   "metadata": {},
   "source": [
    "# Functions"
   ]
  },
  {
   "cell_type": "markdown",
   "metadata": {},
   "source": [
    "## What are functions\n",
    "\n",
    "A function is a reusable piece of functionality which performs (ideally) a single and well-defined task and handles error-conditions in a graceful manner.  \n",
    "Many functions are already provided by Python itself or one of its many external libraries.\n",
    "\n",
    "Functions themselves usually call one or more functions within the function body.\n",
    "\n",
    "Here is a very simple example:"
   ]
  },
  {
   "cell_type": "code",
   "execution_count": 4,
   "metadata": {},
   "outputs": [
    {
     "name": "stdout",
     "output_type": "stream",
     "text": [
      "what shall I call you? Henk\n",
      "Goodday to you, Henk\n"
     ]
    }
   ],
   "source": [
    "def say_hello():\n",
    "    name = input(\"what shall I call you? \")\n",
    "    print(\"Goodday to you,\", name)\n",
    "\n",
    "say_hello()"
   ]
  },
  {
   "cell_type": "markdown",
   "metadata": {},
   "source": [
    "This function asks for the users' name and serves it back with a greeting.\n",
    "It _calls_ two functions itself to perform its task: `input()` which will read input entered using a keyboard on the command line and `print()` which outputs text to that same command-line (also called terminal or console). \n",
    "\n",
    "Actually, this function does not adhere to the definition stated above \"... a single and well-defined task and handles error-conditions in a graceful manner.\" Can you spot the flaws in the function defined above?\n",
    "\n",
    "<br />\n",
    "\n",
    "<details>\n",
    "<summary style=\"color:OrangeRed;cursor:pointer;\">&#10149; Just tell me!</summary>\n",
    "    - The function actually performs two separate tasks: getting the user name and giving a greeting.\n",
    "    - Furthermore, there is no check for the user input. What if the user enters an empty line?\n",
    "<br>\n",
    "</details>\n",
    "\n",
    "These aspects will be discussed in detail later in this chapter."
   ]
  },
  {
   "cell_type": "markdown",
   "metadata": {},
   "source": [
    "In this chapter we'll be looking at how to design, implement and call (use) functions. \n",
    "We'll finish off with an overview of some of the most-used built-in function of the Python language."
   ]
  },
  {
   "cell_type": "markdown",
   "metadata": {},
   "source": [
    "## Creating and using functions\n",
    "\n"
   ]
  },
  {
   "cell_type": "markdown",
   "metadata": {},
   "source": [
    "### Design and Testing"
   ]
  },
  {
   "cell_type": "markdown",
   "metadata": {},
   "source": [
    "## Built-in functions: \n",
    "\n",
    "Built-in Functions\n",
    "\n",
    "The complete list can be found in the [doc](https://docs.python.org/3/library/functions.html)"
   ]
  }
 ],
 "metadata": {
  "kernelspec": {
   "display_name": "Python 3 (ipykernel)",
   "language": "python",
   "name": "python3"
  },
  "language_info": {
   "codemirror_mode": {
    "name": "ipython",
    "version": 3
   },
   "file_extension": ".py",
   "mimetype": "text/x-python",
   "name": "python",
   "nbconvert_exporter": "python",
   "pygments_lexer": "ipython3",
   "version": "3.9.13"
  },
  "vscode": {
   "interpreter": {
    "hash": "b0fa6594d8f4cbf19f97940f81e996739fb7646882a419484c72d19e05852a7e"
   }
  }
 },
 "nbformat": 4,
 "nbformat_minor": 2
}
