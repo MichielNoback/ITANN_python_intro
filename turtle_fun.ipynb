{
 "cells": [
  {
   "cell_type": "markdown",
   "metadata": {},
   "source": [
    "# Turtle fun\n",
    "\n",
    "Turtle is a nice graphical environment to help you think about coding.\n",
    "The turtle module is built into Python; you can use it in a notebook or create a separate script."
   ]
  },
  {
   "cell_type": "markdown",
   "metadata": {},
   "source": [
    "To use turtle you need to import the module:\n",
    "```python\n",
    "import turtle\n",
    "```"
   ]
  },
  {
   "cell_type": "markdown",
   "metadata": {},
   "source": [
    "There are two approaches to work with turtle; this document shows the _object-oriented_ approach. In the other approach, all functionality is loaded into the global namespace, which is something to avoid always. \n",
    "\n",
    "First we'll get an **instance** of turtle and give it a speed to use. \n",
    "\n",
    "```python\n",
    "henk = turtle.Turtle()\n",
    "henk.speed(8)\n",
    "```"
   ]
  },
  {
   "cell_type": "markdown",
   "metadata": {},
   "source": [
    "When executed this will open a separate window with a small black arrow in the middle with nothing happening. That is because henk did not receive any instructions. So, finally, for a first complete set of instructions, give it some movement."
   ]
  },
  {
   "cell_type": "code",
   "execution_count": 1,
   "metadata": {},
   "outputs": [],
   "source": [
    "import turtle\n",
    "\n",
    "henk = turtle.Turtle()\n",
    "#henk.speed(8)  # use this to make it go faster\n",
    "henk.width(3)\n",
    "\n",
    "\n",
    "henk.forward(100)\n",
    "henk.right(120)\n",
    "henk.forward(100)\n",
    "henk.right(120)\n",
    "henk.forward(100)\n",
    "henk.right(120)\n"
   ]
  },
  {
   "cell_type": "markdown",
   "metadata": {},
   "source": [
    "The turtle can do many things - moving, drawing, change color and line type; simply type `henk.` and most code editors will give you a list of possible functions. Alternatively, head over to [realpython](https://realpython.com/beginners-guide-python-turtle/) for a more extensive tutorial. Below is already a bit more extensive example using more functions of the module."
   ]
  },
  {
   "cell_type": "code",
   "execution_count": 1,
   "metadata": {},
   "outputs": [],
   "source": [
    "import turtle # no need to run this import again if the previous cell was already executed!\n",
    "\n",
    "henk = turtle.Turtle()\n",
    "#henk.speed(8)  # use this to make it go faster\n",
    "henk.width(5)         # a wider penstroke\n",
    "\n",
    "henk.pencolor(\"orange\")\n",
    "henk.circle(30)\n",
    "henk.penup()\n",
    "henk.goto(0, 30)\n",
    "henk.pendown()\n",
    "henk.pencolor(\"blue\")\n",
    "henk.forward(150)\n",
    "henk.left(90)\n",
    "henk.forward(100)\n",
    "henk.left(30)\n",
    "henk.forward(30)\n",
    "henk.left(60)\n",
    "henk.forward(20)\n",
    "henk.penup()\n",
    "henk.goto(150, 0)\n",
    "henk.pendown()\n",
    "henk.pencolor(\"orange\")\n",
    "henk.setheading(0)\n",
    "henk.circle(30)\n"
   ]
  },
  {
   "cell_type": "markdown",
   "metadata": {},
   "source": [
    "## Fractals are easy to create\n"
   ]
  },
  {
   "cell_type": "code",
   "execution_count": null,
   "metadata": {},
   "outputs": [],
   "source": [
    "import turtle\n",
    "colors = [\"red\", \"cyan\", \"green\", \"yellow\", \"white\", \"orange\"]\n",
    "window = turtle.Screen()\n",
    "window.bgcolor(\"black\")\n",
    "\n",
    "\n",
    "henk = turtle.Turtle()\n",
    "henk.speed(0)\n",
    "\n",
    "# for x in range(300):\n",
    "#     henk.pencolor(colors[x%6])\n",
    "#     henk.width(x/80+1)\n",
    "#     henk.forward(x)\n",
    "#     henk.right(59)\n",
    "henk.hideturtle()\n",
    "turtle.done()"
   ]
  }
 ],
 "metadata": {
  "kernelspec": {
   "display_name": "Python 3 (ipykernel)",
   "language": "python",
   "name": "python3"
  },
  "language_info": {
   "codemirror_mode": {
    "name": "ipython",
    "version": 3
   },
   "file_extension": ".py",
   "mimetype": "text/x-python",
   "name": "python",
   "nbconvert_exporter": "python",
   "pygments_lexer": "ipython3",
   "version": "3.9.13"
  },
  "vscode": {
   "interpreter": {
    "hash": "b0fa6594d8f4cbf19f97940f81e996739fb7646882a419484c72d19e05852a7e"
   }
  }
 },
 "nbformat": 4,
 "nbformat_minor": 2
}
