{
 "cells": [
  {
   "cell_type": "markdown",
   "metadata": {},
   "source": [
    "# A quick overview\n",
    "\n",
    "In this course you will get to know the programming language **Python**. You will get to know the language up to a level where you will be able to write some scripts and run Python code as an executable program, or in a notebook environment.\n",
    "\n",
    "Since this is the preferred way for a majority of data scientists, and a convenient form for educational purposes, we will start off in a notebook setting. The document you are currently reading is a **Jupyter** notebook. A scientific notebook is an electronic  document used for **literate programming**. In literate programming, text (usually in the form of **Markdown**), code, and its output (both textual and graphical) are combined."
   ]
  },
  {
   "cell_type": "markdown",
   "metadata": {},
   "source": [
    "## An example\n",
    "\n",
    "Suppose I want to calculate the surface of equilateral triangles, with sides 3, 4 and 2.21.\n",
    "First I define a **variable** representing the side and assign an initial value to it. To inspect the value of a variable at any given time you can `print()` it."
   ]
  },
  {
   "cell_type": "code",
   "execution_count": 10,
   "metadata": {},
   "outputs": [
    {
     "name": "stdout",
     "output_type": "stream",
     "text": [
      "3\n"
     ]
    }
   ],
   "source": [
    "side = 3\n",
    "print(side) # print the side"
   ]
  },
  {
   "cell_type": "markdown",
   "metadata": {},
   "source": [
    "Note the use of `#text` to add human-readable comments to the code. Everything after `#` will be ignored when evaluating the cell.\n",
    "\n",
    "`print()` is a **function** that can be used to display text on the console (or in a notebook).\n",
    "If it is the last statement in a notebook cell, you can simply type the name of the variable you want to see without wrapping it in a call to print().\n",
    "\n",
    "Next, I use the `side` variable to calculate the surface of a 3 - 3 - 3 triangle. The formula is $\\frac{1}{2} * width * height$, but since it is equilateral we can simply use $\\frac{1}{2} * side^2$"
   ]
  },
  {
   "cell_type": "code",
   "execution_count": 2,
   "metadata": {},
   "outputs": [
    {
     "data": {
      "text/plain": [
       "'The area of a equilateral triangles with side 3 is 4.5'"
      ]
     },
     "execution_count": 2,
     "metadata": {},
     "output_type": "execute_result"
    }
   ],
   "source": [
    "area =  0.5 * side**2\n",
    "\n",
    "f'The area of a equilateral triangles with side {side} is {area}'\n"
   ]
  },
  {
   "cell_type": "markdown",
   "metadata": {},
   "source": [
    "The `*` and `**` symbols in the above code cell are called **(mathematical) operators** for multiplication and exponentiation, respectively. They _operate_ on _operands_ that are usually on both side of the operator. Any combination of operator and operands is an _expression_ that evaluates to a result.  \n",
    "\n",
    "Other mathematical operators are, not surprisingle, minus (`-`), plus (`+`), division (`/`). There are many more operators, classified as _mathematical_ (like the above), _assignment_ (like the `=` symbol in the above cells), _comparison_ operators (such as `<`), and some more categories. We'll encounter these later on.\n",
    "\n",
    "The `f'  {}'` constructs is a string where we can insert values in."
   ]
  },
  {
   "cell_type": "markdown",
   "metadata": {},
   "source": [
    "Now I want to do the same calculation and reporting for other triangles. I could just copy-and-paste all code, as in the cell below:"
   ]
  },
  {
   "cell_type": "code",
   "execution_count": 3,
   "metadata": {},
   "outputs": [
    {
     "name": "stdout",
     "output_type": "stream",
     "text": [
      "The area of a equilateral triangles with side 4 is 8.0\n",
      "The area of a equilateral triangles with side 2.21 is 2.44\n"
     ]
    }
   ],
   "source": [
    "side = 4\n",
    "area =  0.5 * side**2\n",
    "\n",
    "print(f'The area of a equilateral triangles with side {side} is {area}') \n",
    "\n",
    "side = 2.21\n",
    "area =  0.5 * side**2\n",
    "\n",
    "print(f'The area of a equilateral triangles with side {side} is {round(area, 2)}') #note the use of round()"
   ]
  },
  {
   "cell_type": "markdown",
   "metadata": {},
   "source": [
    "This is awful!  \n",
    "\n",
    "Copy-and-paste activities are a real no-no in programming. Whenever you catch yourself doing it, stop and consider a better way to do it. In the vast majority of cases this will result in extracting the copied code into a custom **function**.  \n",
    "\n",
    "A function is a chunk of code that you can re-use, rather than copying it multiple times. Many are already available within the Python programming language (e.g. `print()`), but you write them yourself all the time as well. \n",
    "\n",
    "Below, the re-used piece of code is embedded in the function `triangle_area()`."
   ]
  },
  {
   "cell_type": "code",
   "execution_count": 7,
   "metadata": {},
   "outputs": [],
   "source": [
    "def print_triangle_area(side):\n",
    "    area =  0.5 * side**2\n",
    "    print(f'The area of an equilateral triangle with side {side} is {round(area, 2)}')\n"
   ]
  },
  {
   "cell_type": "markdown",
   "metadata": {},
   "source": [
    "We'll visit the theory and practice of functions in a later chapter. Suffice to know here is that a named piece of code has been defined which can be used by that name when it is also given a value for its input argument, `side`.  \n",
    "\n",
    "With this function defined (and loaded) it is easy to repeat the operation for a series of values:"
   ]
  },
  {
   "cell_type": "code",
   "execution_count": 8,
   "metadata": {},
   "outputs": [
    {
     "name": "stdout",
     "output_type": "stream",
     "text": [
      "The area of an equilateral triangle with side 3 is 4.5\n",
      "The area of an equilateral triangle with side 4 is 8.0\n",
      "The area of an equilateral triangle with side 2.21 is 2.44\n"
     ]
    }
   ],
   "source": [
    "print_triangle_area(3)\n",
    "print_triangle_area(4)\n",
    "print_triangle_area(2.21)"
   ]
  },
  {
   "cell_type": "markdown",
   "metadata": {},
   "source": [
    "But wait! There is still copied code. Taking a leap forward in Python programming concepts - the `for` loop, here is an even better way to do it."
   ]
  },
  {
   "cell_type": "code",
   "execution_count": 9,
   "metadata": {},
   "outputs": [
    {
     "name": "stdout",
     "output_type": "stream",
     "text": [
      "The area of an equilateral triangle with side 3 is 4.5\n",
      "The area of an equilateral triangle with side 4 is 8.0\n",
      "The area of an equilateral triangle with side 2.21 is 2.44\n"
     ]
    }
   ],
   "source": [
    "sides = [3, 4, 2.21] # a list of values\n",
    "for n in sides:\n",
    "    print_triangle_area(n)"
   ]
  },
  {
   "cell_type": "markdown",
   "metadata": {},
   "source": [
    "The `for` loop _iterates_ an iterable (a collection of values) and performs the given block for each of the values. We call this type of construct a **flow control** element because it controls the flow of the program.  "
   ]
  },
  {
   "cell_type": "markdown",
   "metadata": {},
   "source": [
    "# A real program\n",
    "\n",
    "By now you may be thinking that this does not look like programming at all. Where is the program?\n",
    "Actually there is nog program here. A program is usually a piece of functionality on a computer or other device that receives some input (keyboard, mouse, touchscreen, sensor, etc.) and generates some output (screen, terminal, file, database).\n",
    "\n",
    "Given the triangle example above, a standalone program for calculating and reporting triangle surface area would look like this:\n",
    "\n",
    "```python\n",
    "'''This program calculates the surface of equilateral triangles with sides given on the command line.'''\n",
    "\n",
    "import sys\n",
    "\n",
    "def print_triangle_area(side):\n",
    "    area =  0.5 * side**2\n",
    "    print(f'The area of an equilateral triangle with side {side} is {round(area, 2)}')\n",
    "\n",
    "for arg in sys.argv[1:]:\n",
    "    side = float(arg)\n",
    "    print_triangle_area(side)\n",
    "```\n",
    "\n",
    "Suppose this code is stored in a text file (e.g. 'triangle_surface.py') on your computer it could be run from a terminal or command prompt using the command \n",
    "\n",
    "```bash\n",
    "> python3 triangle_surface.py 3 4 2.21\n",
    "> The area of an equilateral triangle with side 3 is 4.5\n",
    "> The area of an equilateral triangle with side 4 is 8.0\n",
    "> The area of an equilateral triangle with side 2.21 is 2.44\n",
    "```\n",
    "\n",
    "The code for this program can be found [here](./scripts/triangle_surface.py).  \n",
    "\n",
    "There are some elements that you probably don't understand yet:  \n",
    "- `import sys` says \"load the functionality located in module sys and make it available here\". The functionality that is available by default in any Python program is rather limited to keep it lean. Any additional functionality must be loaded from modules using an **import statement** that you usually find at the top of a script or notebook. You will see many more modules if you continue with Python.\n",
    "- `sys.argv` is the list of arguments entered on the command line, in this case `[\"triangle_surface.py\", \"3\", \"4\", \"2.21\"]`. We'll get to lists in the next chapter. \n",
    "- `for arg in sys.argv[1:]:` this says: \"iterate the command-line arguments but skip the first\". Again, subject of a later chapter.\n",
    "\n"
   ]
  },
  {
   "cell_type": "markdown",
   "metadata": {},
   "source": [
    "## Excercises\n",
    "\n",
    "These assume that you already have Python3 installed on your device and is available from the Terminal (MacOS, Linux) or Command Prompt (Windows).\n",
    "\n",
    "1. In the Terminal, type `python3` (so without any argument). This starts an interactive Python session we call a REPL (for Read Evaluate Print Loop). First enter `import math` and press enter to load the math module. Calculate the following (using `math.pi` and `math.sqrt()` where relevant).  \n",
    "\n",
    "    - $\\frac{4.6 + 1.2}{2.09}$ \n",
    "    - $3\\times4^\\frac{7}{12}$\n",
    "    - $r = 6$ <br />\n",
    "      $\\frac{2}{3}\\times \\pi r^3$  \n",
    "    - $5 \\times (\\frac{4 + 2}{\\sqrt{7} \\times 9})$\n",
    "  \n",
    "2. On your computer, create a folder that will hold the exercises of this course. In it, create a copy of the above script `triangle_surface.py`. Run the script.\n",
    "3. Change the script at some points and investigate the effect:\n",
    "    - comment-out (e.g. put a hash symbol `#` in front of it) the `import sys` statement\n",
    "    - change `float(side)` to `int(side)`\n",
    "    - change `sys.argv[1:]` to `sys.argv[2]` and to `sys.argv[2:]`\n",
    "    - use your imagination and experiment further\n"
   ]
  },
  {
   "cell_type": "markdown",
   "metadata": {},
   "source": [
    "# Key concepts\n",
    "\n",
    "- **(computer) program**: a computer program is a sequence or set of instructions in a programming language that a computer (or other device) can execute or interpret.\n",
    "- **flow control**: programming elements that control the flow of a program. Flow control elements are used for iteration and conditional execution.\n",
    "- **function**: A function is a chunk of code (usually named) that you can re-use, rather than copying it multiple times. Functions enable programmers to break down a problem into smaller pieces, each of which performs a particular task.\n",
    "- **import**: A statement making functionality available that is not loaded by default.\n",
    "- **Jupyter**: a Notebook platform in which you do interactive _literate programming_. It supports Julia, Python and R.  \n",
    "- **Markdown**: Markdown is a lightweight markup language that you can use to add formatting elements to plaintext text documents. It is used in a wide range of settings: Jupyter Notebooks, R Markdown, eBook authoring etcetera.\n",
    "- **operator**: a symbol that operates on operands, usually on both sides, together forming an expression.\n",
    "- **Python**: a very popular _programming language_, praised for its ease of learning and use and applicability in a wide range of programming challenges.  \n",
    "- **variable**: a program element that couples a name to a memory location with some contents."
   ]
  }
 ],
 "metadata": {
  "kernelspec": {
   "display_name": "Python 3.9.12 64-bit",
   "language": "python",
   "name": "python3"
  },
  "language_info": {
   "codemirror_mode": {
    "name": "ipython",
    "version": 3
   },
   "file_extension": ".py",
   "mimetype": "text/x-python",
   "name": "python",
   "nbconvert_exporter": "python",
   "pygments_lexer": "ipython3",
   "version": "3.9.12"
  },
  "orig_nbformat": 4,
  "vscode": {
   "interpreter": {
    "hash": "b0fa6594d8f4cbf19f97940f81e996739fb7646882a419484c72d19e05852a7e"
   }
  }
 },
 "nbformat": 4,
 "nbformat_minor": 2
}
