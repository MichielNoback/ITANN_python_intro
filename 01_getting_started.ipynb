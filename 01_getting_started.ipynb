{
 "cells": [
  {
   "cell_type": "markdown",
   "metadata": {},
   "source": [
    "# Key concepts and players\n",
    "\n",
    "In this course you will get to know the programming language **Python**. You will get to know the language up to a level where you will be able to write some scripts and run Python code as an executable program, or in a notebook environment.\n",
    "\n",
    "Since this is the preferred way for a majority of data scientists, and a convenient form for educational purposes, we will start off in a notebook setting. The document you are currently reading is a **Jupyter** notebook. A scientific notebook is an electronic  document used for **literate programming**. In literate programming, text (usually in the form of **Markdown**), code, and its output (both textual and graphical) are combined."
   ]
  },
  {
   "cell_type": "markdown",
   "metadata": {},
   "source": [
    "## An example\n",
    "\n",
    "Suppose I want to calculate the surface of equilateral triangles, with sides 3, 4 and 2.21.\n",
    "First I define a **variable** representing the side and assign an initial value to it. To inspect the value of a variable at any given time you can `print()` it."
   ]
  },
  {
   "cell_type": "code",
   "execution_count": 1,
   "metadata": {},
   "outputs": [
    {
     "name": "stdout",
     "output_type": "stream",
     "text": [
      "3\n"
     ]
    },
    {
     "data": {
      "text/plain": [
       "3"
      ]
     },
     "execution_count": 1,
     "metadata": {},
     "output_type": "execute_result"
    }
   ],
   "source": [
    "side = 3\n",
    "print(side) # no need to explicitly print(); simply type the name of the variable you want to see, if its the last statement in a cell\n",
    "side # in a Python program, this will not work without wrapping it in a call to print()!"
   ]
  },
  {
   "cell_type": "markdown",
   "metadata": {},
   "source": [
    "Note the use of `#text` to add human-readable comments to the code. Everything after `#` will be ignored when evaluating the cell.\n",
    "\n",
    "\n",
    "Next, I use the `side` variable to calculate the surface of a 3 - 3 - 3 triangle. The formula is $\\frac{1}{2} * width * height$, but since it is equilateral we can simply use $\\frac{1}{2} * side^2$"
   ]
  },
  {
   "cell_type": "code",
   "execution_count": 2,
   "metadata": {},
   "outputs": [
    {
     "data": {
      "text/plain": [
       "'The area of a equilateral triangles with side 3 is 4.5'"
      ]
     },
     "execution_count": 2,
     "metadata": {},
     "output_type": "execute_result"
    }
   ],
   "source": [
    "area =  0.5 * side**2\n",
    "\n",
    "f'The area of a equilateral triangles with side {side} is {area}'\n"
   ]
  },
  {
   "cell_type": "markdown",
   "metadata": {},
   "source": [
    "The `*` and `**` symbols in the above code cell are called **(mathematical) operators** for multiplication and exponentiation, respectively. They _operate_ on _operands_ that are usually on both side of the operator. Any combination of operator and operands is an _expression_ that evaluates to a result.  \n",
    "\n",
    "Other mathematical operators are, not surprisingle, minus (`-`), plus (`+`), division (`/`). There are many more operators, classified as _mathematical_ (like the above), _assignment_ (like the `=` symbol in the above cells), _comparison_ operators (such as `<`), and some more categories. We'll encounter them later on."
   ]
  },
  {
   "cell_type": "markdown",
   "metadata": {},
   "source": [
    "Now I want to do the same calculation and reporting for other triangles. I could just copy-and-paste all code, as in the cell below:"
   ]
  },
  {
   "cell_type": "code",
   "execution_count": 3,
   "metadata": {},
   "outputs": [
    {
     "name": "stdout",
     "output_type": "stream",
     "text": [
      "The area of a equilateral triangles with side 4 is 8.0\n",
      "The area of a equilateral triangles with side 2.21 is 2.44\n"
     ]
    }
   ],
   "source": [
    "side = 4\n",
    "area =  0.5 * side**2\n",
    "\n",
    "print(f'The area of a equilateral triangles with side {side} is {area}') \n",
    "\n",
    "side = 2.21\n",
    "area =  0.5 * side**2\n",
    "\n",
    "print(f'The area of a equilateral triangles with side {side} is {round(area, 2)}') #note the use of round()"
   ]
  },
  {
   "cell_type": "markdown",
   "metadata": {},
   "source": [
    "This is awful!  \n",
    "Copy-and-paste activities are a real no-no in programming. Whenever you catch yourself doing it, stop and consider a better way to do it. In the vast majority of cases this will result in extracting the copied code into a **function**.  \n",
    "A function is a chunk of code that you can re-use, rather than copying it multiple times. \n",
    "\n",
    "Below, the re-used piece of code is embedded in the function `triangle_area()`."
   ]
  },
  {
   "cell_type": "code",
   "execution_count": 7,
   "metadata": {},
   "outputs": [],
   "source": [
    "def print_triangle_area(side):\n",
    "    area =  0.5 * side**2\n",
    "    print(f'The area of an equilateral triangle with side {side} is {round(area, 2)}')\n"
   ]
  },
  {
   "cell_type": "markdown",
   "metadata": {},
   "source": [
    "We'll visit the theory and practice of functions in a later chapter. Suffice to know here is that a named piece of code has been defined which can be used by that name when it is also given a value for its input argument, `side`.  \n",
    "\n",
    "With this function defined (and loaded) it is easy to repeat the operation for a series of values:"
   ]
  },
  {
   "cell_type": "code",
   "execution_count": 8,
   "metadata": {},
   "outputs": [
    {
     "name": "stdout",
     "output_type": "stream",
     "text": [
      "The area of an equilateral triangle with side 3 is 4.5\n",
      "The area of an equilateral triangle with side 4 is 8.0\n",
      "The area of an equilateral triangle with side 2.21 is 2.44\n"
     ]
    }
   ],
   "source": [
    "print_triangle_area(3)\n",
    "print_triangle_area(4)\n",
    "print_triangle_area(2.21)"
   ]
  },
  {
   "cell_type": "markdown",
   "metadata": {},
   "source": [
    "But wait! There is still copied code. Taking a leap forward in Python programming concepts - the `for` loop, here is an even better way to do it."
   ]
  },
  {
   "cell_type": "code",
   "execution_count": 9,
   "metadata": {},
   "outputs": [
    {
     "name": "stdout",
     "output_type": "stream",
     "text": [
      "The area of an equilateral triangle with side 3 is 4.5\n",
      "The area of an equilateral triangle with side 4 is 8.0\n",
      "The area of an equilateral triangle with side 2.21 is 2.44\n"
     ]
    }
   ],
   "source": [
    "sides = [3, 4, 2.21] # a list of values\n",
    "for n in sides:\n",
    "    print_triangle_area(n)"
   ]
  },
  {
   "cell_type": "markdown",
   "metadata": {},
   "source": [
    "The `for` loop _iterates_ an iterable (a collection of values) and performs the given block for each of the values. We call this type of construct a **flow control** element because it controls the flow of the program.  "
   ]
  },
  {
   "cell_type": "markdown",
   "metadata": {},
   "source": [
    "# Key concepts\n",
    "\n",
    "- **flow control**: programming elements that control the flow of a program. Flow control elements are used for iteration and conditional execution.\n",
    "- **function**: A function is a chunk of code (usually named) that you can re-use, rather than copying it multiple times. Functions enable programmers to break down a problem into smaller pieces, each of which performs a particular task.\n",
    "- **Jupyter**: a Notebook platform in which you do interactive _literate programming_. It supports Julia, Python and R.  \n",
    "- **Markdown**: Markdown is a lightweight markup language that you can use to add formatting elements to plaintext text documents. It is used in a wide range of settings: Jupyter Notebooks, R Markdown, eBook authoring etcetera.\n",
    "- **operator**: a symbol that operates on operands, usually on both sides, together forming an expression.\n",
    "- **Python**: a very popular _programming language_, praised for its ease of learning and use and applicability in a wide range of programming challenges.  \n",
    "- **variable**: a program element that couples a name to a memory location with some contents."
   ]
  }
 ],
 "metadata": {
  "kernelspec": {
   "display_name": "Python 3.9.12 64-bit",
   "language": "python",
   "name": "python3"
  },
  "language_info": {
   "codemirror_mode": {
    "name": "ipython",
    "version": 3
   },
   "file_extension": ".py",
   "mimetype": "text/x-python",
   "name": "python",
   "nbconvert_exporter": "python",
   "pygments_lexer": "ipython3",
   "version": "3.9.12"
  },
  "orig_nbformat": 4,
  "vscode": {
   "interpreter": {
    "hash": "b0fa6594d8f4cbf19f97940f81e996739fb7646882a419484c72d19e05852a7e"
   }
  }
 },
 "nbformat": 4,
 "nbformat_minor": 2
}
