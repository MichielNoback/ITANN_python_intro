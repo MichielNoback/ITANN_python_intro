{
 "cells": [
  {
   "cell_type": "markdown",
   "metadata": {},
   "source": [
    "# Getting to know the key concepts and players\n",
    "\n",
    "In this course you will get to know the programming language **Python**. You will get to know the language up to a level where you will be able to write some scripts and run Python code as an executable program, or in a notebook environment.\n",
    "\n",
    "Since this is the preferred way for a majority of data scientists, and a convenient form for educational purposes, we will start off in a notebook setting. The document you are currently reading is a **Jupyter** notebook. A scientific notebook is an electronic  document used for **literate programming**. In literate programming, text (usually in the form of **Markdown**), code, and its output (both textual and graphical) are combined."
   ]
  },
  {
   "cell_type": "markdown",
   "metadata": {},
   "source": [
    "## An example\n",
    "\n",
    "Suppose I want to calculate the surface of equilateral triangles, with sides 3, 4 and 2.21.\n",
    "First I define a **variable** representing the side and assign an initial value to it. To inspect the value of a variable at any given time you can `print()` it."
   ]
  },
  {
   "cell_type": "code",
   "execution_count": 10,
   "metadata": {},
   "outputs": [
    {
     "name": "stdout",
     "output_type": "stream",
     "text": [
      "3\n"
     ]
    },
    {
     "data": {
      "text/plain": [
       "3"
      ]
     },
     "execution_count": 10,
     "metadata": {},
     "output_type": "execute_result"
    }
   ],
   "source": [
    "side = 3\n",
    "print(side) # no need to explicitly print(); simply type the name of the variable you want to see:\n",
    "side # in a Python program, this will not work without wrapping it in print()!"
   ]
  },
  {
   "cell_type": "markdown",
   "metadata": {},
   "source": [
    "Note the use of `#text` to add human-readable comments to the code. Everything after `#` will be ignored when evaluating the cell.\n",
    "\n",
    "\n",
    "Next, I use the `side` variable to calculate the surface of a 3 - 3 - 3 triangle. The formula is $\\frac{1}{2} * width * height$, but since it is equilateral we can simply use $\\frac{1}{2} * side^2$"
   ]
  },
  {
   "cell_type": "code",
   "execution_count": 8,
   "metadata": {},
   "outputs": [
    {
     "data": {
      "text/plain": [
       "'The area of a equilateral triangles with side 3 is 4.5'"
      ]
     },
     "execution_count": 8,
     "metadata": {},
     "output_type": "execute_result"
    }
   ],
   "source": [
    "area =  0.5 * side**2\n",
    "\n",
    "f'The area of a equilateral triangles with side {side} is {area}'\n"
   ]
  },
  {
   "cell_type": "markdown",
   "metadata": {},
   "source": [
    "The `*` and `**` symbols in the above code cell are called **(mathematical) operators** for multiplication and power, respectively. They _operate_ on _operands_ that are usually on both side of the operator. Any combination of operator and operands is an _expression_ that evaluates to a result.  \n",
    "Other mathematical operators are, not surprisingle, minus (`-`), plus (`+`), division (`/`) and "
   ]
  },
  {
   "cell_type": "markdown",
   "metadata": {},
   "source": [
    "# Key concepts of this tutorial\n",
    "\n",
    "- **Jupyter** is a Notebook platform in which you do interactive _literate programming_. It supports Julia, Python and R.  \n",
    "- **Markdown**: Markdown is a lightweight markup language that you can use to add formatting elements to plaintext text documents. It is used in a wide range of settings: Jupyter Notebooks, R Markdown, eBook authoring etcetera.\n",
    "- **Python** is a very popular _programming language_, praised for its ease of learning and use and applicability in a wide range of programming challenges.  \n",
    "- **variable** is a program element that couples a name to a memory location with some contents."
   ]
  }
 ],
 "metadata": {
  "kernelspec": {
   "display_name": "Python 3.9.12 64-bit",
   "language": "python",
   "name": "python3"
  },
  "language_info": {
   "codemirror_mode": {
    "name": "ipython",
    "version": 3
   },
   "file_extension": ".py",
   "mimetype": "text/x-python",
   "name": "python",
   "nbconvert_exporter": "python",
   "pygments_lexer": "ipython3",
   "version": "3.9.12"
  },
  "orig_nbformat": 4,
  "vscode": {
   "interpreter": {
    "hash": "b0fa6594d8f4cbf19f97940f81e996739fb7646882a419484c72d19e05852a7e"
   }
  }
 },
 "nbformat": 4,
 "nbformat_minor": 2
}
