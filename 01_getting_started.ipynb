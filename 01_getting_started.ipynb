{
 "cells": [
  {
   "cell_type": "markdown",
   "metadata": {},
   "source": [
    "# Getting to know the key concepts and players\n",
    "\n",
    "In this course you will get to know the programming language **Python**. You will get to know the language up to a level where you will be able to write some scripts and run Python code as an executable program, or in a notebook environment.\n",
    "\n",
    "Since this is the preferred way for a majority of data scientists, and a convenient form for educational purposes, we will start off in a notebook setting. The document you are currently reading is a **Jupyter** notebook. A scientific notebook is an electronic  document used for **literate programming**. In literate programming, text, code, and its output (both textual and graphical) are combined."
   ]
  },
  {
   "cell_type": "markdown",
   "metadata": {},
   "source": [
    "## An example\n",
    "\n",
    "Suppose I want to calculate the surface of an equilateral triangle with side 3.\n",
    "First I define the **variable** and assign an initial value to it. To inspect the value of a variable at any given time you can `print()` it."
   ]
  },
  {
   "cell_type": "code",
   "execution_count": 2,
   "metadata": {},
   "outputs": [
    {
     "name": "stdout",
     "output_type": "stream",
     "text": [
      "3\n"
     ]
    }
   ],
   "source": [
    "side = 3\n",
    "print(side)"
   ]
  },
  {
   "cell_type": "markdown",
   "metadata": {},
   "source": [
    "The {{side}}"
   ]
  },
  {
   "cell_type": "markdown",
   "metadata": {},
   "source": [
    "# Key concepts of this tutorial (in order of appearance)\n",
    "\n",
    "- **Python** is a very popular _programming language_, praised for its ease of learning and use and applicability in a wide range of programming challenges.  \n",
    "- **Jupyter** is a Notebook platform in which you do interactive _literate programming_. It supports Julia, Python and R.  \n",
    "- **variable** is a program element that couples a name to a memory location with some contents."
   ]
  }
 ],
 "metadata": {
  "kernelspec": {
   "display_name": "Python 3.9.12 64-bit",
   "language": "python",
   "name": "python3"
  },
  "language_info": {
   "codemirror_mode": {
    "name": "ipython",
    "version": 3
   },
   "file_extension": ".py",
   "mimetype": "text/x-python",
   "name": "python",
   "nbconvert_exporter": "python",
   "pygments_lexer": "ipython3",
   "version": "3.9.12"
  },
  "orig_nbformat": 4,
  "vscode": {
   "interpreter": {
    "hash": "b0fa6594d8f4cbf19f97940f81e996739fb7646882a419484c72d19e05852a7e"
   }
  }
 },
 "nbformat": 4,
 "nbformat_minor": 2
}
