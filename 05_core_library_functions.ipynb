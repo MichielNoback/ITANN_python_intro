{
 "cells": [
  {
   "cell_type": "markdown",
   "id": "29ff7b0b",
   "metadata": {},
   "source": [
    "## The core library functions\n",
    "\n",
    "Python ships with a wealth of built-in functions at your disposal.\n",
    "Some are readily available but many should be \"activated\" using an `import` statement.\n",
    "\n",
    "This chapter only deals with a very cursory inspection; your should really bookmark the [docs](https://docs.python.org/3/library/index.html).\n"
   ]
  },
  {
   "cell_type": "markdown",
   "id": "16e2b399",
   "metadata": {},
   "source": [
    "### Built-in functions\n",
    "These are the functions you have always at your disposal, without `import` statement. The list is not very long because this keeps the core of Python lean.\n",
    "The complete list can be found in the [doc page on built-ins](https://docs.python.org/3/library/functions.html)\n",
    "\n",
    "The core contains \"constructor functions\" for all built-in datatypes - which we have already seen: `bool()`, `dict()`, `float()`, `int()`, `list()`, `set()`, `str()`, `tuple()` (some were not discussed and will neither be listed here)\n",
    "\n",
    "Also already discussed or demonstrated were `help()`, `input()`, `len()`, `max()`, `min()`, `range()`, `type()`\n",
    "\n",
    "There are some functions related to object-oriented programming (OOP): `getattr()`, `setattr()`, `hasattr()`, `isinstance()`, `issubclass()`, `iter()`, `next()`, `staticmethod()` that will be deiscussed in the chapter on OOP.\n",
    "\n",
    "In the listing below only a very short description is given. For a few others a more detailed discussion is provided in the following sections.\n",
    "\n",
    "- `abs()` gives the absolute value of a number (i.e. removes the minus sign if present).\n",
    "- `dir()` and `vars()` help you inspect the attributes available on a class, object or the current environment.\n",
    "- `sum()` gives the sum of a numeric iterable.\n",
    "- `pow(a, b)` calculates power of a to b (a^4)\n",
    "- `round()` rounds a number to the given number decimal digits (or to the nearest integer of none provided)\n",
    "- `reversed()` gives a reversed _iterator_ of a sequence object. Can be inserted in a list or tuple constructor, or in a iteration control structure.\n"
   ]
  },
  {
   "cell_type": "markdown",
   "id": "92e7fd7e",
   "metadata": {},
   "source": [
    "#### Get an iteration counter with `enumerate()`\n",
    "\n",
    "Used primarily in `for` loops to get hold of an iteration counter. It is a solution for the `for(int i, i < length(seq), i++){}` structure in other languages. The enumeration is wrapped around an iterable object such as string, list or other collection."
   ]
  },
  {
   "cell_type": "code",
   "execution_count": 25,
   "id": "ca6edbdd",
   "metadata": {},
   "outputs": [
    {
     "name": "stdout",
     "output_type": "stream",
     "text": [
      "the number 1 letter of the alphabet is a\n",
      "the number 2 letter of the alphabet is b\n",
      "the number 3 letter of the alphabet is c\n",
      "the number 4 letter of the alphabet is d\n"
     ]
    }
   ],
   "source": [
    "for (i, c) in enumerate(\"abcd\"):\n",
    "    print(f'the number {i+1} letter of the alphabet is {c}')\n",
    "\n"
   ]
  },
  {
   "cell_type": "markdown",
   "id": "afbb8246",
   "metadata": {},
   "source": [
    "#### Read a file with `open()`\n",
    "\n",
    "The `open()` function gives an iterator of file contents when used in a read-only context. It is often used in conjunction "
   ]
  },
  {
   "cell_type": "code",
   "execution_count": 27,
   "id": "e295c8d2",
   "metadata": {},
   "outputs": [
    {
     "name": "stdout",
     "output_type": "stream",
     "text": [
      "employee_id;last_name;role\n",
      "1;Jacobs;ict architect\n",
      "2;Howard;programmer\n",
      "3;Pierson;data scientist\n"
     ]
    }
   ],
   "source": [
    "for line in open(\"data/employees.txt\"):\n",
    "    print(line.strip())\n"
   ]
  },
  {
   "cell_type": "markdown",
   "id": "36dc3033",
   "metadata": {},
   "source": [
    "\n",
    "\n",
    "\n",
    "- `enumerate()`\n",
    "- `filter()` & `map()`\n",
    "- `open()`\n",
    "- `sorted()`\n",
    "- `zip()`\n",
    "\n",
    "- **`chr()`** and **`ord()`** see below\n",
    "\n",
    "\n",
    "\n"
   ]
  }
 ],
 "metadata": {
  "kernelspec": {
   "display_name": "Python 3 (ipykernel)",
   "language": "python",
   "name": "python3"
  },
  "language_info": {
   "codemirror_mode": {
    "name": "ipython",
    "version": 3
   },
   "file_extension": ".py",
   "mimetype": "text/x-python",
   "name": "python",
   "nbconvert_exporter": "python",
   "pygments_lexer": "ipython3",
   "version": "3.9.13"
  }
 },
 "nbformat": 4,
 "nbformat_minor": 5
}
